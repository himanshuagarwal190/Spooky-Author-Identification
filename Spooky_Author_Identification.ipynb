{
  "nbformat": 4,
  "nbformat_minor": 0,
  "metadata": {
    "kernelspec": {
      "name": "python3",
      "display_name": "Python 3"
    },
    "language_info": {
      "pygments_lexer": "ipython3",
      "nbconvert_exporter": "python",
      "version": "3.6.4",
      "file_extension": ".py",
      "codemirror_mode": {
        "name": "ipython",
        "version": 3
      },
      "name": "python",
      "mimetype": "text/x-python"
    },
    "colab": {
      "name": "Spooky Author Identification.ipynb",
      "provenance": []
    },
    "accelerator": "TPU"
  },
  "cells": [
    {
      "cell_type": "code",
      "metadata": {
        "id": "S_Fr8Ibae_iG",
        "colab_type": "code",
        "colab": {
          "base_uri": "https://localhost:8080/",
          "height": 238
        },
        "outputId": "5f95bce2-5209-489a-c621-1b6be7bfafda"
      },
      "source": [
        "!pip install --upgrade --force-reinstall --no-deps kaggle"
      ],
      "execution_count": 1,
      "outputs": [
        {
          "output_type": "stream",
          "text": [
            "Collecting kaggle\n",
            "\u001b[?25l  Downloading https://files.pythonhosted.org/packages/62/ab/bb20f9b9e24f9a6250f95a432f8d9a7d745f8d24039d7a5a6eaadb7783ba/kaggle-1.5.6.tar.gz (58kB)\n",
            "\r\u001b[K     |█████▋                          | 10kB 15.4MB/s eta 0:00:01\r\u001b[K     |███████████▎                    | 20kB 2.2MB/s eta 0:00:01\r\u001b[K     |█████████████████               | 30kB 3.2MB/s eta 0:00:01\r\u001b[K     |██████████████████████▌         | 40kB 2.1MB/s eta 0:00:01\r\u001b[K     |████████████████████████████▏   | 51kB 2.6MB/s eta 0:00:01\r\u001b[K     |████████████████████████████████| 61kB 2.2MB/s \n",
            "\u001b[?25hBuilding wheels for collected packages: kaggle\n",
            "  Building wheel for kaggle (setup.py) ... \u001b[?25l\u001b[?25hdone\n",
            "  Created wheel for kaggle: filename=kaggle-1.5.6-cp36-none-any.whl size=72859 sha256=c201741c12c85268b992047c495cc8d2f4d3761af75b4d4dd736da5adc08a8c1\n",
            "  Stored in directory: /root/.cache/pip/wheels/57/4e/e8/bb28d035162fb8f17f8ca5d42c3230e284c6aa565b42b72674\n",
            "Successfully built kaggle\n",
            "Installing collected packages: kaggle\n",
            "  Found existing installation: kaggle 1.5.6\n",
            "    Uninstalling kaggle-1.5.6:\n",
            "      Successfully uninstalled kaggle-1.5.6\n",
            "Successfully installed kaggle-1.5.6\n"
          ],
          "name": "stdout"
        }
      ]
    },
    {
      "cell_type": "code",
      "metadata": {
        "id": "SuThUkuNfJbF",
        "colab_type": "code",
        "colab": {
          "base_uri": "https://localhost:8080/",
          "height": 68
        },
        "outputId": "51295582-7193-4345-ca0d-70f506418a77"
      },
      "source": [
        "import os\n",
        "os.environ['KAGGLE_USERNAME'] = \" \" # enter username from the kaggle json file\n",
        "os.environ['KAGGLE_KEY'] = \" \" # enter key from the kaggle json file\n",
        "!kaggle competitions download -c spooky-author-identification"
      ],
      "execution_count": 2,
      "outputs": [
        {
          "output_type": "stream",
          "text": [
            "Downloading spooky-author-identification.zip to /content\n",
            "\r  0% 0.00/1.81M [00:00<?, ?B/s]\n",
            "\r100% 1.81M/1.81M [00:00<00:00, 153MB/s]\n"
          ],
          "name": "stdout"
        }
      ]
    },
    {
      "cell_type": "code",
      "metadata": {
        "id": "Dfz5UnaAfajd",
        "colab_type": "code",
        "colab": {
          "base_uri": "https://localhost:8080/",
          "height": 85
        },
        "outputId": "c8694bdc-b5d2-4d7a-ab63-c2e6b18e7fd8"
      },
      "source": [
        "!unzip /content/spooky-author-identification.zip"
      ],
      "execution_count": 3,
      "outputs": [
        {
          "output_type": "stream",
          "text": [
            "Archive:  /content/spooky-author-identification.zip\n",
            "  inflating: sample_submission.zip   \n",
            "  inflating: test.zip                \n",
            "  inflating: train.zip               \n"
          ],
          "name": "stdout"
        }
      ]
    },
    {
      "cell_type": "code",
      "metadata": {
        "id": "uAhhSOoyfzMB",
        "colab_type": "code",
        "colab": {
          "base_uri": "https://localhost:8080/",
          "height": 119
        },
        "outputId": "c2c4579a-1f03-4c26-dac4-3d334008f07a"
      },
      "source": [
        "!unzip /content/train.zip\n",
        "!unzip /content/test.zip\n",
        "!unzip /content/sample_submission.zip"
      ],
      "execution_count": 7,
      "outputs": [
        {
          "output_type": "stream",
          "text": [
            "Archive:  /content/train.zip\n",
            "  inflating: train.csv               \n",
            "Archive:  /content/test.zip\n",
            "  inflating: test.csv                \n",
            "Archive:  /content/sample_submission.zip\n",
            "  inflating: sample_submission.csv   \n"
          ],
          "name": "stdout"
        }
      ]
    },
    {
      "cell_type": "code",
      "metadata": {
        "_uuid": "8f2839f25d086af736a60e9eeb907d3b93b6e0e5",
        "_cell_guid": "b1076dfc-b9ad-4769-8c92-a6c4dae69d19",
        "trusted": true,
        "id": "Wucx6Y7NeuHy",
        "colab_type": "code",
        "colab": {}
      },
      "source": [
        "import numpy as np \n",
        "import pandas as pd \n",
        "import os"
      ],
      "execution_count": 0,
      "outputs": []
    },
    {
      "cell_type": "code",
      "metadata": {
        "_uuid": "d629ff2d2480ee46fbb7e2d37f6b5fab8052498a",
        "_cell_guid": "79c7e3d0-c299-4dcb-8224-4455121ee9b0",
        "trusted": true,
        "id": "ujOc-GqweuH6",
        "colab_type": "code",
        "colab": {
          "base_uri": "https://localhost:8080/",
          "height": 204
        },
        "outputId": "c0ad8526-6f54-4600-f7e5-a5b62a7551f1"
      },
      "source": [
        "train = pd.read_csv('/content/train.csv')\n",
        "test = pd.read_csv('/content/test.csv')\n",
        "train.head()"
      ],
      "execution_count": 9,
      "outputs": [
        {
          "output_type": "execute_result",
          "data": {
            "text/html": [
              "<div>\n",
              "<style scoped>\n",
              "    .dataframe tbody tr th:only-of-type {\n",
              "        vertical-align: middle;\n",
              "    }\n",
              "\n",
              "    .dataframe tbody tr th {\n",
              "        vertical-align: top;\n",
              "    }\n",
              "\n",
              "    .dataframe thead th {\n",
              "        text-align: right;\n",
              "    }\n",
              "</style>\n",
              "<table border=\"1\" class=\"dataframe\">\n",
              "  <thead>\n",
              "    <tr style=\"text-align: right;\">\n",
              "      <th></th>\n",
              "      <th>id</th>\n",
              "      <th>text</th>\n",
              "      <th>author</th>\n",
              "    </tr>\n",
              "  </thead>\n",
              "  <tbody>\n",
              "    <tr>\n",
              "      <th>0</th>\n",
              "      <td>id26305</td>\n",
              "      <td>This process, however, afforded me no means of...</td>\n",
              "      <td>EAP</td>\n",
              "    </tr>\n",
              "    <tr>\n",
              "      <th>1</th>\n",
              "      <td>id17569</td>\n",
              "      <td>It never once occurred to me that the fumbling...</td>\n",
              "      <td>HPL</td>\n",
              "    </tr>\n",
              "    <tr>\n",
              "      <th>2</th>\n",
              "      <td>id11008</td>\n",
              "      <td>In his left hand was a gold snuff box, from wh...</td>\n",
              "      <td>EAP</td>\n",
              "    </tr>\n",
              "    <tr>\n",
              "      <th>3</th>\n",
              "      <td>id27763</td>\n",
              "      <td>How lovely is spring As we looked from Windsor...</td>\n",
              "      <td>MWS</td>\n",
              "    </tr>\n",
              "    <tr>\n",
              "      <th>4</th>\n",
              "      <td>id12958</td>\n",
              "      <td>Finding nothing else, not even gold, the Super...</td>\n",
              "      <td>HPL</td>\n",
              "    </tr>\n",
              "  </tbody>\n",
              "</table>\n",
              "</div>"
            ],
            "text/plain": [
              "        id                                               text author\n",
              "0  id26305  This process, however, afforded me no means of...    EAP\n",
              "1  id17569  It never once occurred to me that the fumbling...    HPL\n",
              "2  id11008  In his left hand was a gold snuff box, from wh...    EAP\n",
              "3  id27763  How lovely is spring As we looked from Windsor...    MWS\n",
              "4  id12958  Finding nothing else, not even gold, the Super...    HPL"
            ]
          },
          "metadata": {
            "tags": []
          },
          "execution_count": 9
        }
      ]
    },
    {
      "cell_type": "code",
      "metadata": {
        "trusted": true,
        "id": "y-4t93pkeuH9",
        "colab_type": "code",
        "colab": {
          "base_uri": "https://localhost:8080/",
          "height": 34
        },
        "outputId": "8d7c4711-f3a0-48f8-a060-ddc543206dc1"
      },
      "source": [
        "from keras.preprocessing.text import Tokenizer\n",
        "from keras.preprocessing.sequence import pad_sequences\n",
        "from keras.utils import np_utils\n",
        "import numpy as np\n",
        "from nltk.corpus import stopwords\n",
        "from tqdm import tqdm\n",
        "from string import punctuation"
      ],
      "execution_count": 10,
      "outputs": [
        {
          "output_type": "stream",
          "text": [
            "Using TensorFlow backend.\n"
          ],
          "name": "stderr"
        }
      ]
    },
    {
      "cell_type": "code",
      "metadata": {
        "id": "ZXU59_N_gV-L",
        "colab_type": "code",
        "colab": {
          "base_uri": "https://localhost:8080/",
          "height": 68
        },
        "outputId": "a353cf60-24fe-4763-bfcf-76da715a081d"
      },
      "source": [
        "import nltk\n",
        "nltk.download('stopwords')"
      ],
      "execution_count": 12,
      "outputs": [
        {
          "output_type": "stream",
          "text": [
            "[nltk_data] Downloading package stopwords to /root/nltk_data...\n",
            "[nltk_data]   Unzipping corpora/stopwords.zip.\n"
          ],
          "name": "stdout"
        },
        {
          "output_type": "execute_result",
          "data": {
            "text/plain": [
              "True"
            ]
          },
          "metadata": {
            "tags": []
          },
          "execution_count": 12
        }
      ]
    },
    {
      "cell_type": "code",
      "metadata": {
        "trusted": true,
        "id": "NNg65DCDeuH_",
        "colab_type": "code",
        "colab": {}
      },
      "source": [
        "corpus = list(train['text'].values)\n",
        "sw = stopwords.words('english')\n",
        "vocab1 = list()\n",
        "vocab = list()\n",
        "for i in corpus:\n",
        "    for j in punctuation:\n",
        "        i = i.replace(j,'')\n",
        "    vocab1.append(i)\n",
        "vocab1 = [i.split() for i in vocab1]\n",
        "for i in range(len(vocab1)):\n",
        "    for k in sw:\n",
        "        temp = [j for j in vocab1[i] if j not in sw]\n",
        "    vocab.append(temp)\n"
      ],
      "execution_count": 0,
      "outputs": []
    },
    {
      "cell_type": "code",
      "metadata": {
        "trusted": true,
        "id": "rClONxbMeuIB",
        "colab_type": "code",
        "colab": {
          "base_uri": "https://localhost:8080/",
          "height": 34
        },
        "outputId": "4e42f6d4-ad42-4dd4-965a-5246bcd69c3c"
      },
      "source": [
        "z = [len(i) for i in vocab]\n",
        "max_len = np.max(z)\n",
        "max_words = 15000\n",
        "max_len"
      ],
      "execution_count": 14,
      "outputs": [
        {
          "output_type": "execute_result",
          "data": {
            "text/plain": [
              "462"
            ]
          },
          "metadata": {
            "tags": []
          },
          "execution_count": 14
        }
      ]
    },
    {
      "cell_type": "code",
      "metadata": {
        "trusted": true,
        "id": "W-M2kxK7euIE",
        "colab_type": "code",
        "colab": {}
      },
      "source": [
        "tk = Tokenizer(num_words=max_words)\n",
        "tk.fit_on_texts(vocab)\n",
        "train_encoded = tk.texts_to_sequences(vocab)\n",
        "test_encoded = tk.texts_to_sequences(test['text'].values)\n",
        "x_train = pad_sequences(train_encoded, max_len)\n",
        "x_test = pad_sequences(test_encoded, max_len)"
      ],
      "execution_count": 0,
      "outputs": []
    },
    {
      "cell_type": "code",
      "metadata": {
        "trusted": true,
        "id": "GvhDWW1aeuIG",
        "colab_type": "code",
        "colab": {
          "base_uri": "https://localhost:8080/",
          "height": 88
        },
        "outputId": "e0f8f45e-8541-4eea-ca5f-ee57eb85b9fe"
      },
      "source": [
        "print(vocab[0],'\\n', train_encoded[0],'\\n', tk.word_index['however'])"
      ],
      "execution_count": 16,
      "outputs": [
        {
          "output_type": "stream",
          "text": [
            "['This', 'process', 'however', 'afforded', 'means', 'ascertaining', 'dimensions', 'dungeon', 'I', 'might', 'make', 'circuit', 'return', 'point', 'whence', 'I', 'set', 'without', 'aware', 'fact', 'perfectly', 'uniform', 'seemed', 'wall'] \n",
            " [41, 2903, 62, 1307, 207, 7412, 2399, 4520, 1, 15, 98, 4211, 208, 162, 1886, 1, 240, 52, 818, 226, 1375, 4894, 27, 345] \n",
            " 62\n"
          ],
          "name": "stdout"
        }
      ]
    },
    {
      "cell_type": "code",
      "metadata": {
        "trusted": true,
        "id": "huPMOOhHeuII",
        "colab_type": "code",
        "colab": {}
      },
      "source": [
        "labels_train = pd.get_dummies(train['author'])\n",
        "y_train = []\n",
        "for i in range(len(labels_train)):\n",
        "    temp = [labels_train['EAP'][i], labels_train['HPL'][i], labels_train['MWS'][i]]\n",
        "    y_train.append(temp)"
      ],
      "execution_count": 0,
      "outputs": []
    },
    {
      "cell_type": "code",
      "metadata": {
        "trusted": true,
        "id": "XHdNUnsAeuIM",
        "colab_type": "code",
        "colab": {}
      },
      "source": [
        "x_train = np.array(x_train)\n",
        "y_train = np.array(y_train)"
      ],
      "execution_count": 0,
      "outputs": []
    },
    {
      "cell_type": "code",
      "metadata": {
        "trusted": true,
        "id": "xEc6fbcQeuIO",
        "colab_type": "code",
        "colab": {}
      },
      "source": [
        "from keras.models import Sequential\n",
        "from keras.layers import LSTM, Dense, Dropout, Activation, Embedding\n",
        "from keras.callbacks import ModelCheckpoint, EarlyStopping"
      ],
      "execution_count": 0,
      "outputs": []
    },
    {
      "cell_type": "code",
      "metadata": {
        "trusted": true,
        "id": "J0--fsT_euIQ",
        "colab_type": "code",
        "colab": {
          "base_uri": "https://localhost:8080/",
          "height": 323
        },
        "outputId": "13e20a5d-0d3b-4982-d275-7bb0a1b0f236"
      },
      "source": [
        "model = Sequential()\n",
        "model.add(Embedding(max_words, 512, input_length=max_len))\n",
        "model.add(LSTM(128))\n",
        "model.add(Dropout(0.5))\n",
        "model.add(Dense(3))\n",
        "model.add(Activation('softmax'))\n",
        "model.compile(loss='categorical_crossentropy', optimizer='adam', metrics=['accuracy'])\n",
        "model.summary()"
      ],
      "execution_count": 22,
      "outputs": [
        {
          "output_type": "stream",
          "text": [
            "Model: \"sequential_3\"\n",
            "_________________________________________________________________\n",
            "Layer (type)                 Output Shape              Param #   \n",
            "=================================================================\n",
            "embedding_3 (Embedding)      (None, 462, 512)          7680000   \n",
            "_________________________________________________________________\n",
            "lstm_3 (LSTM)                (None, 128)               328192    \n",
            "_________________________________________________________________\n",
            "dropout_3 (Dropout)          (None, 128)               0         \n",
            "_________________________________________________________________\n",
            "dense_3 (Dense)              (None, 3)                 387       \n",
            "_________________________________________________________________\n",
            "activation_3 (Activation)    (None, 3)                 0         \n",
            "=================================================================\n",
            "Total params: 8,008,579\n",
            "Trainable params: 8,008,579\n",
            "Non-trainable params: 0\n",
            "_________________________________________________________________\n"
          ],
          "name": "stdout"
        }
      ]
    },
    {
      "cell_type": "code",
      "metadata": {
        "trusted": true,
        "id": "HfmlVlMheuIT",
        "colab_type": "code",
        "colab": {
          "base_uri": "https://localhost:8080/",
          "height": 391
        },
        "outputId": "32f0f3c4-0e11-49dd-cf28-5be761f926a6"
      },
      "source": [
        "checkpoint = ModelCheckpoint('weights.hdf5',save_best_only=True, monitor='val_loss', mode='auto', verbose=1)\n",
        "earlystop = EarlyStopping(monitor='val_loss', mode='auto', patience=20)\n",
        "model.fit(x_train, y_train, epochs=5, batch_size=100, callbacks=[checkpoint,earlystop], verbose=1, validation_split=0.1)"
      ],
      "execution_count": 24,
      "outputs": [
        {
          "output_type": "stream",
          "text": [
            "Train on 17621 samples, validate on 1958 samples\n",
            "Epoch 1/5\n",
            "17621/17621 [==============================] - 645s 37ms/step - loss: 0.6780 - acc: 0.7043 - val_loss: 0.4567 - val_acc: 0.8161\n",
            "\n",
            "Epoch 00001: val_loss improved from inf to 0.45669, saving model to weights.hdf5\n",
            "Epoch 2/5\n",
            "17621/17621 [==============================] - 648s 37ms/step - loss: 0.2461 - acc: 0.9104 - val_loss: 0.4661 - val_acc: 0.8253\n",
            "\n",
            "Epoch 00002: val_loss did not improve from 0.45669\n",
            "Epoch 3/5\n",
            "17621/17621 [==============================] - 641s 36ms/step - loss: 0.1287 - acc: 0.9564 - val_loss: 0.6017 - val_acc: 0.8095\n",
            "\n",
            "Epoch 00003: val_loss did not improve from 0.45669\n",
            "Epoch 4/5\n",
            "17621/17621 [==============================] - 641s 36ms/step - loss: 0.0791 - acc: 0.9720 - val_loss: 0.7182 - val_acc: 0.8069\n",
            "\n",
            "Epoch 00004: val_loss did not improve from 0.45669\n",
            "Epoch 5/5\n",
            "17621/17621 [==============================] - 645s 37ms/step - loss: 0.0566 - acc: 0.9809 - val_loss: 0.8205 - val_acc: 0.8080\n",
            "\n",
            "Epoch 00005: val_loss did not improve from 0.45669\n"
          ],
          "name": "stdout"
        },
        {
          "output_type": "execute_result",
          "data": {
            "text/plain": [
              "<keras.callbacks.History at 0x7ff0f9878b70>"
            ]
          },
          "metadata": {
            "tags": []
          },
          "execution_count": 24
        }
      ]
    },
    {
      "cell_type": "code",
      "metadata": {
        "trusted": true,
        "id": "eG6j5zJoeuIX",
        "colab_type": "code",
        "colab": {}
      },
      "source": [
        "model.load_weights('weights.hdf5')"
      ],
      "execution_count": 0,
      "outputs": []
    },
    {
      "cell_type": "code",
      "metadata": {
        "trusted": true,
        "id": "vuwxUZw6euIa",
        "colab_type": "code",
        "colab": {}
      },
      "source": [
        "pred = model.predict(x_test)"
      ],
      "execution_count": 0,
      "outputs": []
    },
    {
      "cell_type": "code",
      "metadata": {
        "trusted": true,
        "id": "Awce_RgUeuId",
        "colab_type": "code",
        "colab": {}
      },
      "source": [
        "id = test['id'].values\n",
        "eap = pred[:,0]\n",
        "hpl = pred[:,1]\n",
        "mws = pred[:,2]\n",
        "submission = {'id':id, 'EAP':eap, 'HPL':hpl, 'MWS':mws}\n",
        "submission = pd.DataFrame(submission)\n",
        "submission.to_csv('Submission.csv',index=False)"
      ],
      "execution_count": 0,
      "outputs": []
    }
  ]
}